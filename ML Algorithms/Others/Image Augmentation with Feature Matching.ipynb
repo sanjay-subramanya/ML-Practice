{
 "cells": [
  {
   "cell_type": "code",
   "execution_count": 2,
   "id": "e8564f06",
   "metadata": {},
   "outputs": [],
   "source": [
    "import cv2\n",
    "import numpy as np"
   ]
  },
  {
   "cell_type": "code",
   "execution_count": 3,
   "id": "db4e8d5d",
   "metadata": {},
   "outputs": [],
   "source": [
    "# Initilizing the ORB Feature Detector\n",
    "\n",
    "Min_Matches = 20\n",
    "detector = cv2.ORB_create(nfeatures=3000)"
   ]
  },
  {
   "cell_type": "code",
   "execution_count": 4,
   "id": "81659417",
   "metadata": {},
   "outputs": [],
   "source": [
    "# Preparing the FLANN Based matcher\n",
    "\n",
    "index_params = dict(algorithm = 1, trees = 3)\n",
    "search_params = dict(checks = 100)\n",
    "flann = cv2.FlannBasedMatcher(index_params, search_params)"
   ]
  },
  {
   "cell_type": "code",
   "execution_count": 5,
   "id": "695b609c",
   "metadata": {},
   "outputs": [],
   "source": [
    "# Function for loading input image and keypoints\n",
    "\n",
    "def load_input():\n",
    "    \n",
    "    input_image = cv2.imread(r'D:\\Misc\\Extra\\one_piece_58.jpg')\n",
    "    input_image = cv2.resize(input_image, (400, 600), interpolation = cv2.INTER_AREA)\n",
    "    gray_image = cv2.cvtColor(input_image, cv2.COLOR_BGR2GRAY)\n",
    "    \n",
    "    # Find keypoints with ORB instance\n",
    "    keypoints, descriptors = detector.detectAndCompute(gray_image, None)\n",
    "    \n",
    "    return gray_image, keypoints, descriptors"
   ]
  },
  {
   "cell_type": "code",
   "execution_count": 6,
   "id": "e0b9500a",
   "metadata": {},
   "outputs": [],
   "source": [
    "# Function for computing matches between trained model and descriptors from live feed\n",
    "\n",
    "def compute_matches(descriptors_input, descriptors_output):\n",
    "    \n",
    "    if(len(descriptors_input)!=0 and len(descriptors_output)!=0):\n",
    "        matches = flann.knnMatch(np.asarray(descriptors_input, np.float32), np.asarray(descriptors_output, np.float32), k=2)\n",
    "        good = []\n",
    "        for m, n in matches:\n",
    "            if m.distance < 0.69 * n.distance:\n",
    "                good.append([m])\n",
    "        return good\n",
    "    \n",
    "    else:\n",
    "        return None"
   ]
  },
  {
   "cell_type": "code",
   "execution_count": 7,
   "id": "503ee243",
   "metadata": {},
   "outputs": [],
   "source": [
    "# Main function\n",
    "\n",
    "if __name__=='__main__':\n",
    "    \n",
    "    input_image, input_keypoints, input_descriptors = load_input()\n",
    "    \n",
    "    cap = cv2.VideoCapture(0)\n",
    "    ret, frame = cap.read()\n",
    "    \n",
    "    while(ret==True):\n",
    "        ret, frame = cap.read()\n",
    "        \n",
    "        if(len(input_keypoints) < Min_Matches):\n",
    "            continue\n",
    "        \n",
    "        frame = cv2.resize(frame, (900,600))\n",
    "        frame_gray = cv2.cvtColor(frame, cv2.COLOR_BGR2GRAY)\n",
    "        \n",
    "        output_keypoints, output_descriptors = detector.detectAndCompute(frame_gray, None)\n",
    "        matches = compute_matches(input_descriptors, output_descriptors)\n",
    "        \n",
    "        if(matches==None):\n",
    "            cv2.imshow('Final output', frame)\n",
    "        \n",
    "        else:\n",
    "            output_final = cv2.drawMatchesKnn(input_image, input_keypoints, frame, output_keypoints, matches, None, \n",
    "                            flags = cv2.DrawMatchesFlags_NOT_DRAW_SINGLE_POINTS)\n",
    "            cv2.imshow('Final output', output_final)\n",
    "        \n",
    "        \n",
    "        if(cv2.waitKey(10)==27):\n",
    "            break"
   ]
  },
  {
   "cell_type": "code",
   "execution_count": null,
   "id": "b551c8be",
   "metadata": {},
   "outputs": [],
   "source": []
  },
  {
   "cell_type": "code",
   "execution_count": null,
   "id": "9ccfafc1",
   "metadata": {},
   "outputs": [],
   "source": []
  }
 ],
 "metadata": {
  "kernelspec": {
   "display_name": "Python 3",
   "language": "python",
   "name": "python3"
  },
  "language_info": {
   "codemirror_mode": {
    "name": "ipython",
    "version": 3
   },
   "file_extension": ".py",
   "mimetype": "text/x-python",
   "name": "python",
   "nbconvert_exporter": "python",
   "pygments_lexer": "ipython3",
   "version": "3.8.10"
  }
 },
 "nbformat": 4,
 "nbformat_minor": 5
}
