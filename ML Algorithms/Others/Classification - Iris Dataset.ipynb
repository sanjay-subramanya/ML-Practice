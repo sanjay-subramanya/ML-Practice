{
 "cells": [
  {
   "cell_type": "code",
   "execution_count": 1,
   "id": "4cc3a9bd",
   "metadata": {},
   "outputs": [],
   "source": [
    "import tensorflow as tf\n",
    "import matplotlib.pyplot as plt"
   ]
  },
  {
   "cell_type": "code",
   "execution_count": 2,
   "id": "33c976a4",
   "metadata": {},
   "outputs": [],
   "source": [
    "import pandas as pd\n",
    "from __future__ import  absolute_import, unicode_literals, print_function, division\n",
    "\n",
    "physical_devices = tf.config.list_physical_devices(\"GPU\")\n",
    "tf.config.experimental.set_memory_growth(physical_devices[0], True)"
   ]
  },
  {
   "cell_type": "code",
   "execution_count": 3,
   "id": "8d88a7fe",
   "metadata": {},
   "outputs": [],
   "source": [
    "CSV_COLUMN_NAMES = ['SepalLength', 'SepalWidth', 'PetalLength', 'PetalWidth', 'Species']\n",
    "SPECIES = ['Setosa', 'Ver onsicolor', 'Virginica']\n",
    "# Lets define some constants to help us later"
   ]
  },
  {
   "cell_type": "code",
   "execution_count": 4,
   "id": "2fc8c4ce",
   "metadata": {},
   "outputs": [],
   "source": [
    "train_path = tf.keras.utils.get_file(\n",
    "    \"iris_training.csv\", \"https://storage.googleapis.com/download.tensorflow.org/data/iris_training.csv\")\n",
    "test_path = tf.keras.utils.get_file(\n",
    "    \"iris_test.csv\", \"https://storage.googleapis.com/download.tensorflow.org/data/iris_test.csv\")\n"
   ]
  },
  {
   "cell_type": "code",
   "execution_count": 5,
   "id": "4ff98fe5",
   "metadata": {},
   "outputs": [],
   "source": [
    "# Here we use keras (a module inside of TensorFlow) to grab our datasets and read them into a pandas dataframe\n",
    "train = pd.read_csv(train_path, names = CSV_COLUMN_NAMES, header=0)\n",
    "test = pd.read_csv(test_path, names = CSV_COLUMN_NAMES, header=0)"
   ]
  },
  {
   "cell_type": "code",
   "execution_count": 6,
   "id": "bbfba22a",
   "metadata": {},
   "outputs": [
    {
     "data": {
      "text/html": [
       "<div>\n",
       "<style scoped>\n",
       "    .dataframe tbody tr th:only-of-type {\n",
       "        vertical-align: middle;\n",
       "    }\n",
       "\n",
       "    .dataframe tbody tr th {\n",
       "        vertical-align: top;\n",
       "    }\n",
       "\n",
       "    .dataframe thead th {\n",
       "        text-align: right;\n",
       "    }\n",
       "</style>\n",
       "<table border=\"1\" class=\"dataframe\">\n",
       "  <thead>\n",
       "    <tr style=\"text-align: right;\">\n",
       "      <th></th>\n",
       "      <th>SepalLength</th>\n",
       "      <th>SepalWidth</th>\n",
       "      <th>PetalLength</th>\n",
       "      <th>PetalWidth</th>\n",
       "      <th>Species</th>\n",
       "    </tr>\n",
       "  </thead>\n",
       "  <tbody>\n",
       "    <tr>\n",
       "      <th>0</th>\n",
       "      <td>6.4</td>\n",
       "      <td>2.8</td>\n",
       "      <td>5.6</td>\n",
       "      <td>2.2</td>\n",
       "      <td>2</td>\n",
       "    </tr>\n",
       "    <tr>\n",
       "      <th>1</th>\n",
       "      <td>5.0</td>\n",
       "      <td>2.3</td>\n",
       "      <td>3.3</td>\n",
       "      <td>1.0</td>\n",
       "      <td>1</td>\n",
       "    </tr>\n",
       "    <tr>\n",
       "      <th>2</th>\n",
       "      <td>4.9</td>\n",
       "      <td>2.5</td>\n",
       "      <td>4.5</td>\n",
       "      <td>1.7</td>\n",
       "      <td>2</td>\n",
       "    </tr>\n",
       "    <tr>\n",
       "      <th>3</th>\n",
       "      <td>4.9</td>\n",
       "      <td>3.1</td>\n",
       "      <td>1.5</td>\n",
       "      <td>0.1</td>\n",
       "      <td>0</td>\n",
       "    </tr>\n",
       "    <tr>\n",
       "      <th>4</th>\n",
       "      <td>5.7</td>\n",
       "      <td>3.8</td>\n",
       "      <td>1.7</td>\n",
       "      <td>0.3</td>\n",
       "      <td>0</td>\n",
       "    </tr>\n",
       "  </tbody>\n",
       "</table>\n",
       "</div>"
      ],
      "text/plain": [
       "   SepalLength  SepalWidth  PetalLength  PetalWidth  Species\n",
       "0          6.4         2.8          5.6         2.2        2\n",
       "1          5.0         2.3          3.3         1.0        1\n",
       "2          4.9         2.5          4.5         1.7        2\n",
       "3          4.9         3.1          1.5         0.1        0\n",
       "4          5.7         3.8          1.7         0.3        0"
      ]
     },
     "execution_count": 6,
     "metadata": {},
     "output_type": "execute_result"
    }
   ],
   "source": [
    "train.head()"
   ]
  },
  {
   "cell_type": "code",
   "execution_count": 7,
   "id": "20b2c1de",
   "metadata": {},
   "outputs": [
    {
     "data": {
      "text/html": [
       "<div>\n",
       "<style scoped>\n",
       "    .dataframe tbody tr th:only-of-type {\n",
       "        vertical-align: middle;\n",
       "    }\n",
       "\n",
       "    .dataframe tbody tr th {\n",
       "        vertical-align: top;\n",
       "    }\n",
       "\n",
       "    .dataframe thead th {\n",
       "        text-align: right;\n",
       "    }\n",
       "</style>\n",
       "<table border=\"1\" class=\"dataframe\">\n",
       "  <thead>\n",
       "    <tr style=\"text-align: right;\">\n",
       "      <th></th>\n",
       "      <th>SepalLength</th>\n",
       "      <th>SepalWidth</th>\n",
       "      <th>PetalLength</th>\n",
       "      <th>PetalWidth</th>\n",
       "    </tr>\n",
       "  </thead>\n",
       "  <tbody>\n",
       "    <tr>\n",
       "      <th>0</th>\n",
       "      <td>5.9</td>\n",
       "      <td>3.0</td>\n",
       "      <td>4.2</td>\n",
       "      <td>1.5</td>\n",
       "    </tr>\n",
       "    <tr>\n",
       "      <th>1</th>\n",
       "      <td>6.9</td>\n",
       "      <td>3.1</td>\n",
       "      <td>5.4</td>\n",
       "      <td>2.1</td>\n",
       "    </tr>\n",
       "    <tr>\n",
       "      <th>2</th>\n",
       "      <td>5.1</td>\n",
       "      <td>3.3</td>\n",
       "      <td>1.7</td>\n",
       "      <td>0.5</td>\n",
       "    </tr>\n",
       "    <tr>\n",
       "      <th>3</th>\n",
       "      <td>6.0</td>\n",
       "      <td>3.4</td>\n",
       "      <td>4.5</td>\n",
       "      <td>1.6</td>\n",
       "    </tr>\n",
       "    <tr>\n",
       "      <th>4</th>\n",
       "      <td>5.5</td>\n",
       "      <td>2.5</td>\n",
       "      <td>4.0</td>\n",
       "      <td>1.3</td>\n",
       "    </tr>\n",
       "  </tbody>\n",
       "</table>\n",
       "</div>"
      ],
      "text/plain": [
       "   SepalLength  SepalWidth  PetalLength  PetalWidth\n",
       "0          5.9         3.0          4.2         1.5\n",
       "1          6.9         3.1          5.4         2.1\n",
       "2          5.1         3.3          1.7         0.5\n",
       "3          6.0         3.4          4.5         1.6\n",
       "4          5.5         2.5          4.0         1.3"
      ]
     },
     "execution_count": 7,
     "metadata": {},
     "output_type": "execute_result"
    }
   ],
   "source": [
    "train_y = train.pop('Species')\n",
    "test_y = test.pop('Species')\n",
    "test.head() # the species column is now gone"
   ]
  },
  {
   "cell_type": "code",
   "execution_count": 8,
   "id": "614059ec",
   "metadata": {},
   "outputs": [
    {
     "data": {
      "text/plain": [
       "(120, 4)"
      ]
     },
     "execution_count": 8,
     "metadata": {},
     "output_type": "execute_result"
    }
   ],
   "source": [
    "train.shape"
   ]
  },
  {
   "cell_type": "code",
   "execution_count": 9,
   "id": "84d14f21",
   "metadata": {
    "scrolled": true
   },
   "outputs": [
    {
     "data": {
      "text/plain": [
       "(30, 4)"
      ]
     },
     "execution_count": 9,
     "metadata": {},
     "output_type": "execute_result"
    }
   ],
   "source": [
    "test.shape"
   ]
  },
  {
   "cell_type": "code",
   "execution_count": 16,
   "id": "8bbc56bd",
   "metadata": {},
   "outputs": [],
   "source": [
    "def input_fn(features, labels, training=True, batch_size = 256):\n",
    "    #convert input intod dataset\n",
    "    ds = tf.data.Dataset.from_tensor_slices((dict(features), labels))\n",
    "    \n",
    "    if training: \n",
    "        #shuffle and repeat training data\n",
    "        ds = ds.shuffle(100).repeat()\n",
    "    \n",
    "    return ds.batch(batch_size)\n"
   ]
  },
  {
   "cell_type": "code",
   "execution_count": 17,
   "id": "01edf8e5",
   "metadata": {},
   "outputs": [
    {
     "name": "stdout",
     "output_type": "stream",
     "text": [
      "[NumericColumn(key='SepalLength', shape=(1,), default_value=None, dtype=tf.float32, normalizer_fn=None), NumericColumn(key='SepalWidth', shape=(1,), default_value=None, dtype=tf.float32, normalizer_fn=None), NumericColumn(key='PetalLength', shape=(1,), default_value=None, dtype=tf.float32, normalizer_fn=None), NumericColumn(key='PetalWidth', shape=(1,), default_value=None, dtype=tf.float32, normalizer_fn=None)]\n"
     ]
    }
   ],
   "source": [
    "# Feature columns describe how to use the input\n",
    "my_feature_columns = []\n",
    "\n",
    "for key in train.keys():\n",
    "    my_feature_columns.append(tf.feature_column.numeric_column(key=key))\n",
    "\n",
    "print(my_feature_columns)"
   ]
  },
  {
   "cell_type": "code",
   "execution_count": 18,
   "id": "a2ad3732",
   "metadata": {},
   "outputs": [
    {
     "name": "stdout",
     "output_type": "stream",
     "text": [
      "INFO:tensorflow:Using default config.\n",
      "WARNING:tensorflow:Using temporary folder as model directory: C:\\Users\\Sanjay\\AppData\\Local\\Temp\\tmphjw9c1gr\n",
      "INFO:tensorflow:Using config: {'_model_dir': 'C:\\\\Users\\\\Sanjay\\\\AppData\\\\Local\\\\Temp\\\\tmphjw9c1gr', '_tf_random_seed': None, '_save_summary_steps': 100, '_save_checkpoints_steps': None, '_save_checkpoints_secs': 600, '_session_config': allow_soft_placement: true\n",
      "graph_options {\n",
      "  rewrite_options {\n",
      "    meta_optimizer_iterations: ONE\n",
      "  }\n",
      "}\n",
      ", '_keep_checkpoint_max': 5, '_keep_checkpoint_every_n_hours': 10000, '_log_step_count_steps': 100, '_train_distribute': None, '_device_fn': None, '_protocol': None, '_eval_distribute': None, '_experimental_distribute': None, '_experimental_max_worker_delay_secs': None, '_session_creation_timeout_secs': 7200, '_checkpoint_save_graph_def': True, '_service': None, '_cluster_spec': ClusterSpec({}), '_task_type': 'worker', '_task_id': 0, '_global_id_in_cluster': 0, '_master': '', '_evaluation_master': '', '_is_chief': True, '_num_ps_replicas': 0, '_num_worker_replicas': 1}\n"
     ]
    }
   ],
   "source": [
    "# Build a DNN with 2 hidden layers with 30 and 10 hidden nodes each.\n",
    "clf = tf.estimator.DNNClassifier(\n",
    "        feature_columns = my_feature_columns, \n",
    "        hidden_units = [30, 10], # 2 hidden layers of 30 and 10 units repsectively \n",
    "        n_classes = 3) # 3 classes in model"
   ]
  },
  {
   "cell_type": "code",
   "execution_count": 20,
   "id": "e750b8d0",
   "metadata": {},
   "outputs": [
    {
     "name": "stdout",
     "output_type": "stream",
     "text": [
      "INFO:tensorflow:Calling model_fn.\n",
      "INFO:tensorflow:Done calling model_fn.\n",
      "INFO:tensorflow:Create CheckpointSaverHook.\n",
      "INFO:tensorflow:Graph was finalized.\n",
      "INFO:tensorflow:Restoring parameters from C:\\Users\\Sanjay\\AppData\\Local\\Temp\\tmphjw9c1gr\\model.ckpt-5000\n",
      "WARNING:tensorflow:From D:\\Anaconda3\\envs\\tf2.5\\lib\\site-packages\\tensorflow\\python\\training\\saver.py:1078: get_checkpoint_mtimes (from tensorflow.python.training.checkpoint_management) is deprecated and will be removed in a future version.\n",
      "Instructions for updating:\n",
      "Use standard file utilities to get mtimes.\n",
      "INFO:tensorflow:Running local_init_op.\n",
      "INFO:tensorflow:Done running local_init_op.\n",
      "INFO:tensorflow:Calling checkpoint listeners before saving checkpoint 5000...\n",
      "INFO:tensorflow:Saving checkpoints for 5000 into C:\\Users\\Sanjay\\AppData\\Local\\Temp\\tmphjw9c1gr\\model.ckpt.\n",
      "INFO:tensorflow:Calling checkpoint listeners after saving checkpoint 5000...\n",
      "INFO:tensorflow:loss = 0.7622375, step = 5000\n",
      "INFO:tensorflow:global_step/sec: 97.5463\n",
      "INFO:tensorflow:loss = 0.7424493, step = 5100 (1.025 sec)\n",
      "INFO:tensorflow:global_step/sec: 138.07\n",
      "INFO:tensorflow:loss = 0.7457032, step = 5200 (0.724 sec)\n",
      "INFO:tensorflow:global_step/sec: 168.228\n",
      "INFO:tensorflow:loss = 0.75744706, step = 5300 (0.602 sec)\n",
      "INFO:tensorflow:global_step/sec: 164.079\n",
      "INFO:tensorflow:loss = 0.7519471, step = 5400 (0.601 sec)\n",
      "INFO:tensorflow:global_step/sec: 168.573\n",
      "INFO:tensorflow:loss = 0.7301246, step = 5500 (0.593 sec)\n",
      "INFO:tensorflow:global_step/sec: 150.558\n",
      "INFO:tensorflow:loss = 0.7428921, step = 5600 (0.664 sec)\n",
      "INFO:tensorflow:global_step/sec: 155.125\n",
      "INFO:tensorflow:loss = 0.7256744, step = 5700 (0.645 sec)\n",
      "INFO:tensorflow:global_step/sec: 174.764\n",
      "INFO:tensorflow:loss = 0.73166764, step = 5800 (0.572 sec)\n",
      "INFO:tensorflow:global_step/sec: 179.334\n",
      "INFO:tensorflow:loss = 0.7381656, step = 5900 (0.573 sec)\n",
      "INFO:tensorflow:global_step/sec: 174.078\n",
      "INFO:tensorflow:loss = 0.7251849, step = 6000 (0.567 sec)\n",
      "INFO:tensorflow:global_step/sec: 178.479\n",
      "INFO:tensorflow:loss = 0.7423451, step = 6100 (0.552 sec)\n",
      "INFO:tensorflow:global_step/sec: 176.328\n",
      "INFO:tensorflow:loss = 0.7237404, step = 6200 (0.567 sec)\n",
      "INFO:tensorflow:global_step/sec: 177.445\n",
      "INFO:tensorflow:loss = 0.7211938, step = 6300 (0.564 sec)\n",
      "INFO:tensorflow:global_step/sec: 177.133\n",
      "INFO:tensorflow:loss = 0.71622205, step = 6400 (0.565 sec)\n",
      "INFO:tensorflow:global_step/sec: 178.699\n",
      "INFO:tensorflow:loss = 0.70976, step = 6500 (0.560 sec)\n",
      "INFO:tensorflow:global_step/sec: 173.321\n",
      "INFO:tensorflow:loss = 0.7112144, step = 6600 (0.577 sec)\n",
      "INFO:tensorflow:global_step/sec: 185.392\n",
      "INFO:tensorflow:loss = 0.6967361, step = 6700 (0.539 sec)\n",
      "INFO:tensorflow:global_step/sec: 167.146\n",
      "INFO:tensorflow:loss = 0.70208734, step = 6800 (0.606 sec)\n",
      "INFO:tensorflow:global_step/sec: 177.07\n",
      "INFO:tensorflow:loss = 0.69547606, step = 6900 (0.557 sec)\n",
      "INFO:tensorflow:global_step/sec: 160.048\n",
      "INFO:tensorflow:loss = 0.69661045, step = 7000 (0.633 sec)\n",
      "INFO:tensorflow:global_step/sec: 158.216\n",
      "INFO:tensorflow:loss = 0.68967986, step = 7100 (0.632 sec)\n",
      "INFO:tensorflow:global_step/sec: 175.773\n",
      "INFO:tensorflow:loss = 0.6993233, step = 7200 (0.561 sec)\n",
      "INFO:tensorflow:global_step/sec: 168.561\n",
      "INFO:tensorflow:loss = 0.6816814, step = 7300 (0.593 sec)\n",
      "INFO:tensorflow:global_step/sec: 175.504\n",
      "INFO:tensorflow:loss = 0.6901779, step = 7400 (0.585 sec)\n",
      "INFO:tensorflow:global_step/sec: 175.413\n",
      "INFO:tensorflow:loss = 0.6919234, step = 7500 (0.554 sec)\n",
      "INFO:tensorflow:global_step/sec: 170.81\n",
      "INFO:tensorflow:loss = 0.67386866, step = 7600 (0.585 sec)\n",
      "INFO:tensorflow:global_step/sec: 182.416\n",
      "INFO:tensorflow:loss = 0.6810187, step = 7700 (0.564 sec)\n",
      "INFO:tensorflow:global_step/sec: 180.466\n",
      "INFO:tensorflow:loss = 0.67528415, step = 7800 (0.554 sec)\n",
      "INFO:tensorflow:global_step/sec: 177.628\n",
      "INFO:tensorflow:loss = 0.6750033, step = 7900 (0.547 sec)\n",
      "INFO:tensorflow:global_step/sec: 161.335\n",
      "INFO:tensorflow:loss = 0.65926695, step = 8000 (0.620 sec)\n",
      "INFO:tensorflow:global_step/sec: 158.205\n",
      "INFO:tensorflow:loss = 0.6994755, step = 8100 (0.632 sec)\n",
      "INFO:tensorflow:global_step/sec: 177.707\n",
      "INFO:tensorflow:loss = 0.66048574, step = 8200 (0.569 sec)\n",
      "INFO:tensorflow:global_step/sec: 180.319\n",
      "INFO:tensorflow:loss = 0.6690171, step = 8300 (0.548 sec)\n",
      "INFO:tensorflow:global_step/sec: 180.277\n",
      "INFO:tensorflow:loss = 0.634516, step = 8400 (0.555 sec)\n",
      "INFO:tensorflow:global_step/sec: 180.788\n",
      "INFO:tensorflow:loss = 0.6628822, step = 8500 (0.569 sec)\n",
      "INFO:tensorflow:global_step/sec: 177.17\n",
      "INFO:tensorflow:loss = 0.6508483, step = 8600 (0.549 sec)\n",
      "INFO:tensorflow:global_step/sec: 166.491\n",
      "INFO:tensorflow:loss = 0.63737327, step = 8700 (0.601 sec)\n",
      "INFO:tensorflow:global_step/sec: 158.116\n",
      "INFO:tensorflow:loss = 0.65837204, step = 8800 (0.632 sec)\n",
      "INFO:tensorflow:global_step/sec: 180.278\n",
      "INFO:tensorflow:loss = 0.6483776, step = 8900 (0.570 sec)\n",
      "INFO:tensorflow:global_step/sec: 177.439\n",
      "INFO:tensorflow:loss = 0.6450994, step = 9000 (0.564 sec)\n",
      "INFO:tensorflow:global_step/sec: 178.891\n",
      "INFO:tensorflow:loss = 0.65472525, step = 9100 (0.543 sec)\n",
      "INFO:tensorflow:global_step/sec: 177.551\n",
      "INFO:tensorflow:loss = 0.638664, step = 9200 (0.579 sec)\n",
      "INFO:tensorflow:global_step/sec: 180.437\n",
      "INFO:tensorflow:loss = 0.64543605, step = 9300 (0.539 sec)\n",
      "INFO:tensorflow:global_step/sec: 170.908\n",
      "INFO:tensorflow:loss = 0.6368724, step = 9400 (0.585 sec)\n",
      "INFO:tensorflow:global_step/sec: 177.44\n",
      "INFO:tensorflow:loss = 0.6217231, step = 9500 (0.564 sec)\n",
      "INFO:tensorflow:global_step/sec: 165.876\n",
      "INFO:tensorflow:loss = 0.6214448, step = 9600 (0.603 sec)\n",
      "INFO:tensorflow:global_step/sec: 175.656\n",
      "INFO:tensorflow:loss = 0.62844425, step = 9700 (0.577 sec)\n",
      "INFO:tensorflow:global_step/sec: 171.479\n",
      "INFO:tensorflow:loss = 0.6300614, step = 9800 (0.575 sec)\n",
      "INFO:tensorflow:global_step/sec: 173.266\n",
      "INFO:tensorflow:loss = 0.6209754, step = 9900 (0.585 sec)\n",
      "INFO:tensorflow:Calling checkpoint listeners before saving checkpoint 10000...\n",
      "INFO:tensorflow:Saving checkpoints for 10000 into C:\\Users\\Sanjay\\AppData\\Local\\Temp\\tmphjw9c1gr\\model.ckpt.\n",
      "INFO:tensorflow:Calling checkpoint listeners after saving checkpoint 10000...\n",
      "INFO:tensorflow:Loss for final step: 0.6107927.\n"
     ]
    },
    {
     "data": {
      "text/plain": [
       "<tensorflow_estimator.python.estimator.canned.dnn.DNNClassifierV2 at 0x2b053b476d0>"
      ]
     },
     "execution_count": 20,
     "metadata": {},
     "output_type": "execute_result"
    }
   ],
   "source": [
    "clf.train(\n",
    "    input_fn = lambda: input_fn(train, train_y, training = True),\n",
    "    steps = 5000)\n",
    "    # We include a lambda to avoid creating an inner function previously\n",
    "    "
   ]
  },
  {
   "cell_type": "code",
   "execution_count": 21,
   "id": "fc755c42",
   "metadata": {},
   "outputs": [
    {
     "name": "stdout",
     "output_type": "stream",
     "text": [
      "INFO:tensorflow:Calling model_fn.\n",
      "INFO:tensorflow:Done calling model_fn.\n",
      "INFO:tensorflow:Starting evaluation at 2021-07-15T16:27:25\n",
      "INFO:tensorflow:Graph was finalized.\n",
      "INFO:tensorflow:Restoring parameters from C:\\Users\\Sanjay\\AppData\\Local\\Temp\\tmphjw9c1gr\\model.ckpt-10000\n",
      "INFO:tensorflow:Running local_init_op.\n",
      "INFO:tensorflow:Done running local_init_op.\n",
      "INFO:tensorflow:Inference Time : 0.63989s\n",
      "INFO:tensorflow:Finished evaluation at 2021-07-15-16:27:25\n",
      "INFO:tensorflow:Saving dict for global step 10000: accuracy = 0.53333336, average_loss = 0.74373, global_step = 10000, loss = 0.74373\n",
      "INFO:tensorflow:Saving 'checkpoint_path' summary for global step 10000: C:\\Users\\Sanjay\\AppData\\Local\\Temp\\tmphjw9c1gr\\model.ckpt-10000\n",
      "Testing accuracy = 0.5333\n",
      "\n"
     ]
    }
   ],
   "source": [
    "#evaluate on test set\n",
    "eval_result = clf.evaluate(\n",
    "    input_fn = lambda: input_fn(test, test_y, training = False))\n",
    "print('Testing accuracy = {accuracy:0.4f}\\n'.format(**eval_result))"
   ]
  },
  {
   "cell_type": "code",
   "execution_count": 22,
   "id": "43cc2227",
   "metadata": {},
   "outputs": [],
   "source": [
    "def input_fn(features, batch_size = 256):\n",
    "    # Convert the inputs to a Dataset without labels.\n",
    "    pred_set = tf.data.Dataset.from_tensor_slices(dict(features))\n",
    "    return pred_set.batch(batch_size)"
   ]
  },
  {
   "cell_type": "code",
   "execution_count": 24,
   "id": "d53fa448",
   "metadata": {
    "scrolled": true
   },
   "outputs": [
    {
     "name": "stdout",
     "output_type": "stream",
     "text": [
      "Type numeric values for the features as prompted\n",
      "SepalLength: 2.0\n",
      "SepalWidth: 1.3\n",
      "PetalLength: 0.87\n",
      "PetalWidth: 4.6\n",
      "INFO:tensorflow:Calling model_fn.\n",
      "INFO:tensorflow:Done calling model_fn.\n",
      "INFO:tensorflow:Graph was finalized.\n",
      "INFO:tensorflow:Restoring parameters from C:\\Users\\Sanjay\\AppData\\Local\\Temp\\tmphjw9c1gr\\model.ckpt-10000\n",
      "INFO:tensorflow:Running local_init_op.\n",
      "INFO:tensorflow:Done running local_init_op.\n",
      "{'logits': array([ 0.13167764, -0.9471754 ,  0.8253335 ], dtype=float32), 'probabilities': array([0.29931134, 0.10176144, 0.5989272 ], dtype=float32), 'class_ids': array([2], dtype=int64), 'classes': array([b'2'], dtype=object), 'all_class_ids': array([0, 1, 2]), 'all_classes': array([b'0', b'1', b'2'], dtype=object)}\n",
      "Prediction is \"Virginica\" (59.89%)\n"
     ]
    }
   ],
   "source": [
    "features = ['SepalLength', 'SepalWidth', 'PetalLength', 'PetalWidth']\n",
    "predict = {}\n",
    "\n",
    "print('Type numeric values for the features as prompted')\n",
    "for feature in features:\n",
    "    valid = True\n",
    "    while valid:\n",
    "        val = input(feature + \": \")\n",
    "        if not val.isdigit(): valid = False\n",
    "    \n",
    "    predict[feature] = [float(val)]\n",
    "\n",
    "predictions = clf.predict(input_fn = lambda: input_fn(predict))\n",
    "\n",
    "for pred_dict in predictions:\n",
    "    print(pred_dict)\n",
    "    class_id = pred_dict['class_ids'][0]\n",
    "    probability = pred_dict['probabilities'][class_id]\n",
    "    \n",
    "    print('Prediction is \"{}\" ({:.2f}%)'.format(SPECIES[class_id], probability*100))"
   ]
  },
  {
   "cell_type": "code",
   "execution_count": null,
   "id": "a217d3f0",
   "metadata": {},
   "outputs": [],
   "source": []
  },
  {
   "cell_type": "code",
   "execution_count": null,
   "id": "00ed2417",
   "metadata": {},
   "outputs": [],
   "source": []
  },
  {
   "cell_type": "code",
   "execution_count": null,
   "id": "5ab3ebe6",
   "metadata": {},
   "outputs": [],
   "source": []
  },
  {
   "cell_type": "raw",
   "id": "57e6f180",
   "metadata": {},
   "source": []
  },
  {
   "cell_type": "code",
   "execution_count": null,
   "id": "3addf733",
   "metadata": {},
   "outputs": [],
   "source": []
  }
 ],
 "metadata": {
  "kernelspec": {
   "display_name": "Python 3",
   "language": "python",
   "name": "python3"
  },
  "language_info": {
   "codemirror_mode": {
    "name": "ipython",
    "version": 3
   },
   "file_extension": ".py",
   "mimetype": "text/x-python",
   "name": "python",
   "nbconvert_exporter": "python",
   "pygments_lexer": "ipython3",
   "version": "3.8.10"
  }
 },
 "nbformat": 4,
 "nbformat_minor": 5
}
