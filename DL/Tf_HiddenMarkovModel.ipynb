{
 "cells": [
  {
   "cell_type": "code",
   "execution_count": 1,
   "id": "22d9a1c7",
   "metadata": {},
   "outputs": [],
   "source": [
    "import tensorflow as tf\n",
    "import tensorflow_probability as tfp"
   ]
  },
  {
   "cell_type": "code",
   "execution_count": 2,
   "id": "4485217e",
   "metadata": {},
   "outputs": [
    {
     "data": {
      "text/plain": [
       "\"We will model a simple weather system and try to predict the temperature on each day given the following information.\\n\\nCold days are encoded by a 0 and hot days are encoded by a 1.\\nThe first day in our sequence has an 80% chance of being cold.\\nA cold day has a 30% chance of being followed by a hot day.\\nA hot day has a 20% chance of being followed by a cold day.\\nOn each day the temperature is normally distributed with mean and standard deviation 0 and 5 on a cold day and mean and standard deviation 15 and 10 on a hot day.\\nIf you're unfamiliar with standard deviation it can be put simply as the range of expected values.\\n\\nIn this example, on a hot day the average temperature is 15 and ranges from 5 to 25.\""
      ]
     },
     "execution_count": 2,
     "metadata": {},
     "output_type": "execute_result"
    }
   ],
   "source": [
    "'''We will model a simple weather system and try to predict the temperature on each day given the following information.\n",
    "\n",
    "Cold days are encoded by a 0 and hot days are encoded by a 1.\n",
    "The first day in our sequence has an 80% chance of being cold.\n",
    "A cold day has a 30% chance of being followed by a hot day.\n",
    "A hot day has a 20% chance of being followed by a cold day.\n",
    "On each day the temperature is normally distributed with mean and standard deviation 0 and 5 on a cold day and mean and standard deviation 15 and 10 on a hot day.\n",
    "If you're unfamiliar with standard deviation it can be put simply as the range of expected values.\n",
    "\n",
    "In this example, on a hot day the average temperature is 15 and ranges from 5 to 25.'''"
   ]
  },
  {
   "cell_type": "code",
   "execution_count": 3,
   "id": "4f669888",
   "metadata": {},
   "outputs": [],
   "source": [
    "tfd = tfp.distributions\n",
    "initial_distribution = tfd.Categorical(probs = [0.8, 0.2])\n",
    "transition_distribution = tfd.Categorical(probs = [[0.7, 0.3], \n",
    "                                                   [0.2, 0.8]])\n",
    "obs_distribution = tfd.Normal(loc=[0., 15.], scale=[5., 10.])\n",
    "# the loc argument represents the mean and the scale is the standard devitation"
   ]
  },
  {
   "cell_type": "code",
   "execution_count": 4,
   "id": "6496559a",
   "metadata": {},
   "outputs": [],
   "source": [
    "model = tfd.HiddenMarkovModel(initial_distribution = initial_distribution,\n",
    "                              transition_distribution = transition_distribution,\n",
    "                              observation_distribution = obs_distribution,\n",
    "                              num_steps = 7)\n",
    "#num_steps - no. of days for which we're calculating weather  "
   ]
  },
  {
   "cell_type": "code",
   "execution_count": 5,
   "id": "a8d796ab",
   "metadata": {},
   "outputs": [
    {
     "name": "stdout",
     "output_type": "stream",
     "text": [
      "[3.        6.        7.4999995 8.249999  8.625001  8.812501  8.90625  ]\n"
     ]
    }
   ],
   "source": [
    "Mean = model.mean()\n",
    "\n",
    "# due to the way TensorFlow works on a lower level we need to evaluate part of the graph\n",
    "# from within a session to see the value of this tensor\n",
    "\n",
    "with tf.compat.v1.Session() as sess:\n",
    "    print(Mean.numpy())"
   ]
  },
  {
   "cell_type": "code",
   "execution_count": null,
   "id": "15151af6",
   "metadata": {},
   "outputs": [],
   "source": []
  }
 ],
 "metadata": {
  "kernelspec": {
   "display_name": "Python 3",
   "language": "python",
   "name": "python3"
  },
  "language_info": {
   "codemirror_mode": {
    "name": "ipython",
    "version": 3
   },
   "file_extension": ".py",
   "mimetype": "text/x-python",
   "name": "python",
   "nbconvert_exporter": "python",
   "pygments_lexer": "ipython3",
   "version": "3.8.10"
  }
 },
 "nbformat": 4,
 "nbformat_minor": 5
}
